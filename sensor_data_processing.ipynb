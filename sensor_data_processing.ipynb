{
 "cells": [
  {
   "cell_type": "markdown",
   "metadata": {},
   "source": [
    "## The following cells are for sending and receiving data together with the project 'STAGnet_16_MxCubeApplication'. It sends tactile data to the microcontroller, which then does an inference and sends the result back"
   ]
  },
  {
   "cell_type": "code",
   "execution_count": null,
   "metadata": {},
   "outputs": [],
   "source": [
    "import struct\n",
    "import serial\n",
    "import numpy as np"
   ]
  },
  {
   "cell_type": "code",
   "execution_count": null,
   "metadata": {},
   "outputs": [],
   "source": [
    "file = 'C:/Users/fabia/Documents/Schweiz/ETH/Master/4_Semester_Spring_2020/Master_thesis/C_Code/validation_data/data2_small.csv'\n",
    "# each element in 'data' corresponds to a full sensor frame\n",
    "data = np.loadtxt(file, delimiter=',')"
   ]
  },
  {
   "cell_type": "code",
   "execution_count": null,
   "metadata": {},
   "outputs": [],
   "source": [
    "preds = []\n",
    "for j in range(data.shape[0]):\n",
    "    ser = serial.Serial(\"COM3\", 115200, timeout=0.5)\n",
    "    for i in range(data.shape[1]):\n",
    "        # '<f' means little endian format, '>f' big endian format\n",
    "        packet = bytearray(struct.pack('<f', data[j][i]))\n",
    "        ser.write(packet)\n",
    "    read_data = ser.read(2000)\n",
    "    ser.close()\n",
    "    #print(read_data[0:46].decode())\n",
    "    out_data = read_data[46:].decode()\n",
    "    out_data = list(out_data.split('\\n'))\n",
    "    out_data.pop(-1)\n",
    "    out_data = np.array(out_data).astype(np.int8)\n",
    "\n",
    "    probs = []\n",
    "    for i in range(len(out_data)//4):\n",
    "        packet = out_data[i*4:(i+1)*4]\n",
    "        unpacked = struct.unpack('<f', bytes(packet))[0]\n",
    "        probs.append(unpacked)\n",
    "        #print('{:f}'.format(unpacked))\n",
    "    #print('\\nPredicted class: {:d}'.format(np.argmax(pred)))\n",
    "    preds.append(np.argmax(probs))\n",
    "    # Delay so the MCU has enough time for one inference\n",
    "    time.sleep(0.2)"
   ]
  },
  {
   "cell_type": "code",
   "execution_count": null,
   "metadata": {},
   "outputs": [],
   "source": [
    "from pathlib import Path\n",
    "import numpy as np\n",
    "import struct\n",
    "file = Path('C:/Users/fabia/Documents/Schweiz/ETH/Master/4_Semester_Spring_2020/Master_thesis/Data_Collection/test.log')\n",
    "out_data = np.genfromtxt(file, delimiter='\\n')\n",
    "out_data = out_data.astype(np.int8)\n",
    "size = len(out_data)//4\n",
    "\n",
    "probs = []\n",
    "for i in range(size):\n",
    "    packet = out_data[i*4:(i+1)*4]\n",
    "    unpacked = struct.unpack('<f', bytes(packet))[0]\n",
    "    probs.append(unpacked)\n",
    "preds = []\n",
    "for i in range(size//27):\n",
    "    pred = np.argmax(probs[i*27:(i+1)*27])\n",
    "    preds.append(pred)\n",
    "preds"
   ]
  },
  {
   "cell_type": "code",
   "execution_count": null,
   "metadata": {
    "jupyter": {
     "source_hidden": true
    }
   },
   "outputs": [],
   "source": [
    "(len(out_data)//4)//27"
   ]
  },
  {
   "cell_type": "code",
   "execution_count": null,
   "metadata": {
    "jupyter": {
     "source_hidden": true
    }
   },
   "outputs": [],
   "source": [
    "# Calculate accuracy\n",
    "file = 'C:/Users/fabia/Documents/Schweiz/ETH/Master/4_Semester_Spring_2020/Master_thesis/C_Code/validation_data/label2_small.csv'\n",
    "loaded_label = np.loadtxt(file, delimiter=',')\n",
    "label = []\n",
    "for i in range(loaded_label.shape[0]):\n",
    "    label.append(np.argmax(loaded_label[i]))\n",
    "label = np.array(label)\n",
    "correct = np.count_nonzero(label == preds)\n",
    "print('Accuracy {:.2f}%'.format(100*correct/len(label)))"
   ]
  },
  {
   "cell_type": "markdown",
   "metadata": {},
   "source": [
    "## The following cells are for receiving a bunch of tactile data frames from the MCU in order to find statistical information about the sensor values when the STAG is unloaded"
   ]
  },
  {
   "cell_type": "code",
   "execution_count": null,
   "metadata": {
    "jupyter": {
     "source_hidden": true
    }
   },
   "outputs": [],
   "source": [
    "import numpy as np\n",
    "import scipy.stats as stats\n",
    "import matplotlib.pyplot as plt\n",
    "from pathlib import Path"
   ]
  },
  {
   "cell_type": "code",
   "execution_count": null,
   "metadata": {
    "jupyter": {
     "source_hidden": true
    }
   },
   "outputs": [],
   "source": [
    "IMU_data = []\n",
    "tactile_data = []\n",
    "\n",
    "data_folder = Path('C:/Users/fabia/Documents/Schweiz/ETH/Master/4_Semester_Spring_2020/Master_thesis/Data_Collection')\n",
    "filename = 'ball.log'\n",
    "#filename = 'battery.log'\n",
    "#filename = 'bracket.log'\n",
    "#filename = 'coin.log'\n",
    "#filename = 'empty_can.log'\n",
    "#filename = 'empty_hand.log'\n",
    "#filename = 'full_can.log'\n",
    "#filename = 'gel.log'\n",
    "#filename = 'lotion.log'\n",
    "#filename = 'mug.log'\n",
    "#filename = 'pen.log'\n",
    "#filename = 'safety_glasses.log'\n",
    "#filename = 'scissors.log'\n",
    "#filename = 'screwdriver.log'\n",
    "#filename = 'spray_can.log'\n",
    "#filename = 'stapler.log'\n",
    "#filename = 'tape.log'\n",
    "\n",
    "with open(data_folder / filename) as f:\n",
    "    # I expect data separated by \\t and if it belongs to the same block. Blocks are separated by \\n\n",
    "    while(1):\n",
    "        line = f.readline()\n",
    "        if(line == ''): # reached end of file\n",
    "            break\n",
    "        line = line.split('\\t')\n",
    "        line.pop(-1) # get rid of '\\n' at the end\n",
    "        if(len(line) == 7): # is IMU data\n",
    "            if(line[0].isdigit()):\n",
    "                IMU_data.append(line)\n",
    "            else:\n",
    "                data_desc = line\n",
    "        else: # is tactile data\n",
    "            tactile_data.append(line)\n",
    "            \n",
    "print(len(IMU_data))\n",
    "print(len(tactile_data))\n",
    "IMU_data = np.array(IMU_data).astype(np.float)\n",
    "tactile_data = np.array(tactile_data).astype(np.uint16)\n",
    "\n",
    "frames = tactile_data\n",
    "frames = np.reshape(frames, (len(frames),32,32))"
   ]
  },
  {
   "cell_type": "code",
   "execution_count": null,
   "metadata": {
    "jupyter": {
     "source_hidden": true
    }
   },
   "outputs": [],
   "source": [
    "# Mask to find only the physically present sensor points\n",
    "mask = np.array([np.ones(32), np.ones(32), np.ones(32),\n",
    "                         np.concatenate((np.zeros(14), np.ones(18))),\n",
    "                         np.concatenate((np.zeros(14), np.ones(18))),\n",
    "                         np.concatenate((np.zeros(14), np.ones(18))),\n",
    "                         np.ones(32), np.ones(32), np.ones(32),\n",
    "                         np.concatenate((np.zeros(14), np.ones(18))),\n",
    "                         np.ones(32), np.ones(32), np.ones(32),\n",
    "                         np.concatenate((np.zeros(14), np.ones(18))),\n",
    "                         np.concatenate((np.zeros(14), np.ones(18))),\n",
    "                         np.ones(32), np.ones(32), np.ones(32),\n",
    "                         np.concatenate((np.zeros(25), np.ones(4), np.zeros(3))),\n",
    "                         np.concatenate((np.zeros(25), np.ones(4), np.zeros(3))),\n",
    "                         np.concatenate((np.zeros(25), np.ones(4), np.zeros(3))),\n",
    "                         np.concatenate((np.zeros(25), np.ones(4), np.zeros(3))),\n",
    "                         np.concatenate((np.zeros(25), np.ones(4), np.zeros(3))),\n",
    "                         np.concatenate((np.zeros(25), np.ones(4), np.zeros(3))),\n",
    "                         np.concatenate((np.zeros(25), np.ones(4), np.zeros(3))),\n",
    "                         np.concatenate((np.zeros(25), np.ones(4), np.zeros(3))),\n",
    "                         np.concatenate((np.zeros(25), np.ones(4), np.zeros(3))),\n",
    "                         np.concatenate((np.zeros(25), np.ones(4), np.zeros(3))),\n",
    "                         np.concatenate((np.zeros(25), np.ones(4), np.zeros(3))),\n",
    "                         np.concatenate((np.zeros(25), np.ones(4), np.zeros(3))),\n",
    "                         np.concatenate((np.zeros(25), np.ones(4), np.zeros(3))),\n",
    "                         np.concatenate((np.zeros(25), np.ones(4), np.zeros(3)))]).astype(np.bool)\n",
    "#mask = np.transpose(mask)\n",
    "\n",
    "#phys_frames = frames[:, mask]\n",
    "#unphys_frames = frames[:, np.logical_not(mask)]\n",
    "plt.imshow(np.logical_not(mask))"
   ]
  },
  {
   "cell_type": "code",
   "execution_count": null,
   "metadata": {
    "jupyter": {
     "source_hidden": true
    }
   },
   "outputs": [],
   "source": [
    "all_data = np.mean(np.reshape(frames, (len(frames), 1024)), 0)\n",
    "all_data.sort()\n",
    "phys_data = np.mean(phys_frames, 0)\n",
    "phys_data.sort()\n",
    "unphys_data = np.mean(unphys_frames, 0)\n",
    "unphys_data.sort()\n",
    "\n",
    "pdf_all = stats.norm.pdf(all_data, np.mean(all_data), np.std(all_data))\n",
    "plt.figure(figsize=(10,6))\n",
    "plt.hist(all_data, density=True, bins=20)\n",
    "plt.plot(all_data, pdf_all)\n",
    "plt.grid()\n",
    "#plt.xlim([1820, 2010])\n",
    "plt.show()\n",
    "\n",
    "pdf_phys = stats.norm.pdf(phys_data, np.mean(phys_data), np.std(phys_data))\n",
    "plt.figure(figsize=(10,6))\n",
    "plt.hist(phys_data, density=True, bins=20)\n",
    "plt.plot(phys_data, pdf_phys)\n",
    "plt.grid()\n",
    "#plt.xlim([1820, 2010])\n",
    "plt.show()\n",
    "\n",
    "pdf_unphys = stats.norm.pdf(unphys_data, np.mean(unphys_data), np.std(unphys_data))\n",
    "plt.figure(figsize=(10,6))\n",
    "plt.hist(unphys_data, density=True, bins=16)\n",
    "plt.plot(unphys_data, pdf_unphys)\n",
    "plt.grid()\n",
    "#plt.xlim([1825, 2010])\n",
    "plt.show()"
   ]
  },
  {
   "cell_type": "markdown",
   "metadata": {},
   "source": [
    "## The following cells are for visualizing the data that was collected with the 'STAG_test_DataLogging' application"
   ]
  },
  {
   "cell_type": "code",
   "execution_count": 22,
   "metadata": {
    "jupyter": {
     "source_hidden": true
    }
   },
   "outputs": [],
   "source": [
    "import numpy as np\n",
    "import pyqtgraph as pg\n",
    "from pathlib import Path\n",
    "from pyqtgraph.Qt import QtCore, QtGui\n",
    "import matplotlib.pyplot as plt\n",
    "import pandas as pd"
   ]
  },
  {
   "cell_type": "code",
   "execution_count": 24,
   "metadata": {
    "collapsed": true,
    "jupyter": {
     "outputs_hidden": true,
     "source_hidden": true
    }
   },
   "outputs": [
    {
     "data": {
      "image/png": "[encoded data removed]",
      "text/plain": [
       "<Figure size 432x288 with 1 Axes>"
      ]
     },
     "metadata": {
      "needs_background": "light"
     },
     "output_type": "display_data"
    },
    {
     "data": {
      "image/png": "[encoded data removed]",
      "text/plain": [
       "<Figure size 432x288 with 1 Axes>"
      ]
     },
     "metadata": {
      "needs_background": "light"
     },
     "output_type": "display_data"
    }
   ],
   "source": [
    "# Mask to find only the physically present sensor points\n",
    "mask = np.array([np.ones(32), np.ones(32), np.ones(32), # pinky\n",
    "                 np.concatenate((np.zeros(14), np.ones(18))),\n",
    "                 np.concatenate((np.zeros(14), np.ones(18))),\n",
    "                 np.concatenate((np.zeros(14), np.ones(18))),\n",
    "                 np.ones(32), np.ones(32), np.ones(32), # ring\n",
    "                 np.concatenate((np.zeros(14), np.ones(18))),\n",
    "                 np.ones(32), np.ones(32), np.ones(32), # middle\n",
    "                 np.concatenate((np.zeros(14), np.ones(18))),\n",
    "                 np.concatenate((np.zeros(14), np.ones(18))),\n",
    "                 np.ones(32), np.ones(32), np.ones(32), # index\n",
    "                 np.concatenate((np.zeros(25), np.ones(4), np.zeros(3))),\n",
    "                 np.concatenate((np.zeros(25), np.ones(4), np.zeros(3))),\n",
    "                 np.concatenate((np.zeros(25), np.ones(4), np.zeros(3))),\n",
    "                 np.concatenate((np.zeros(25), np.ones(4), np.zeros(3))),\n",
    "                 np.concatenate((np.zeros(25), np.ones(4), np.zeros(3))),\n",
    "                 np.concatenate((np.zeros(25), np.ones(4), np.zeros(3))),\n",
    "                 np.concatenate((np.zeros(25), np.ones(4), np.zeros(3))),\n",
    "                 np.concatenate((np.zeros(25), np.ones(4), np.zeros(3))),\n",
    "                 np.concatenate((np.zeros(25), np.ones(4), np.zeros(3))),\n",
    "                 np.concatenate((np.zeros(25), np.ones(4), np.zeros(3))),\n",
    "                 np.concatenate((np.zeros(25), np.ones(4), np.zeros(3))),\n",
    "                 np.concatenate((np.zeros(25), np.ones(4), np.zeros(3))),\n",
    "                 np.concatenate((np.zeros(25), np.ones(4), np.zeros(3))),\n",
    "                 np.concatenate((np.zeros(25), np.ones(4), np.zeros(3)))]).astype(np.bool)\n",
    "\n",
    "# Mask to find only the finger tips\n",
    "finger_mask = np.zeros((32,32))\n",
    "finger_mask[:, 0:4] = 1\n",
    "finger_mask[28:32, :] = 1\n",
    "finger_mask = np.logical_and(finger_mask, mask)\n",
    "plt.imshow(finger_mask)\n",
    "plt.show()\n",
    "finger_mask = finger_mask.reshape((1024,))\n",
    "plt.plot(finger_mask)\n",
    "plt.show()"
   ]
  },
  {
   "cell_type": "code",
   "execution_count": 26,
   "metadata": {
    "collapsed": true,
    "jupyter": {
     "outputs_hidden": true,
     "source_hidden": true
    }
   },
   "outputs": [
    {
     "name": "stdout",
     "output_type": "stream",
     "text": [
      "0\n",
      "700\n"
     ]
    }
   ],
   "source": [
    "IMU_data = []\n",
    "tactile_data = []\n",
    "\n",
    "#data_folder = Path('C:/Users/fabia/Documents/Schweiz/ETH/Master/4_Semester_Spring_2020/Master_thesis/Data_Collection/3kOhm_FB/Recording_session_00')\n",
    "#filenames = ['ball.log', 'battery.log', 'bracket.log', 'coin.log', 'empty_can.log', 'empty_hand.log', 'full_can.log', 'gel.log', 'lotion.log', 'mug.log', 'pen.log', 'safety_glasses.log', 'scissors.log', 'screwdriver.log', 'spray_can.log', 'stapler.log', 'tape.log']\n",
    "#data_folder = Path('C:/Users/fabia/Documents/Schweiz/ETH/Master/4_Semester_Spring_2020/Master_thesis/Data_Collection/3kOhm_FB/Temporal_sequences/Movement_direction')\n",
    "#filenames = ['ball_N.log', 'ball_NE.log', 'ball_E.log', 'ball_SE.log', 'ball_S.log', 'ball_SW.log', 'ball_W.log', 'ball_NW.log']\n",
    "#data_folder = Path('C:/Users/fabia/Documents/Schweiz/ETH/Master/4_Semester_Spring_2020/Master_thesis/Data_Collection/3kOhm_FB/Temporal_sequences/Contact_detection')\n",
    "#filenames = ['lotion_contact.log']\n",
    "data_folder = Path('C:/Users/fabia/Documents/Schweiz/ETH/Master/4_Semester_Spring_2020/Master_thesis/Data_Collection/3kOhm_FB/Temporal_sequences/Slip_detection')\n",
    "filenames = ['lotion_slip.log']\n",
    "\n",
    "with open(data_folder / filenames[0]) as f:\n",
    "    # I expect data separated by \\t and if it belongs to the same block. Blocks are separated by \\n\n",
    "    while(1):\n",
    "        line = f.readline()\n",
    "        if(line == ''): # reached end of file\n",
    "            break\n",
    "        line = line.split('\\t')\n",
    "        line.pop(-1) # get rid of '\\n' at the end\n",
    "        if(len(line) == 7): # is IMU data\n",
    "            if(line[0].isdigit()):\n",
    "                IMU_data.append(line)\n",
    "            else:\n",
    "                data_desc = line\n",
    "        else: # is tactile data\n",
    "            line.pop(0)\n",
    "            tactile_data.append(line)\n",
    "            \n",
    "print(len(IMU_data))\n",
    "print(len(tactile_data))\n",
    "if(len(IMU_data) != 0):\n",
    "    IMU_data = np.array(IMU_data).astype(np.int16)\n",
    "tactile_data = np.array(tactile_data).astype(np.uint16)"
   ]
  },
  {
   "cell_type": "code",
   "execution_count": 44,
   "metadata": {
    "collapsed": true,
    "jupyter": {
     "outputs_hidden": true,
     "source_hidden": true
    }
   },
   "outputs": [
    {
     "name": "stdout",
     "output_type": "stream",
     "text": [
      "(700, 64)\n"
     ]
    },
    {
     "data": {
      "image/png": "[encoded data removed]",
      "text/plain": [
       "<Figure size 432x288 with 1 Axes>"
      ]
     },
     "metadata": {
      "needs_background": "light"
     },
     "output_type": "display_data"
    }
   ],
   "source": [
    "# Extract data from the fingertips\n",
    "tac_fingertips = tactile_data[:, finger_mask]\n",
    "print(tac_fingertips.shape)\n",
    "# The first 12 values are pinky, second 12 ring, ... last 16 are thumb\n",
    "pinky = np.mean(tac_fingertips[:, 0:12], axis=1)\n",
    "ring = np.mean(tac_fingertips[:, 12:24], axis=1)\n",
    "middle = np.mean(tac_fingertips[:, 24:36], axis=1)\n",
    "index = np.mean(tac_fingertips[:, 36:48], axis=1)\n",
    "thumb = np.mean(tac_fingertips[:, 48:64], axis=1)\n",
    "\n",
    "i = 6\n",
    "plt.plot(pinky[i*100:(i+1)*100])\n",
    "plt.plot(ring[i*100:(i+1)*100])\n",
    "plt.plot(middle[i*100:(i+1)*100])\n",
    "plt.plot(index[i*100:(i+1)*100])\n",
    "plt.plot(thumb[i*100:(i+1)*100])\n",
    "plt.legend(['pinky', 'ring', 'middle', 'index', 'thumb'])\n",
    "plt.grid()\n",
    "plt.show()"
   ]
  },
  {
   "cell_type": "code",
   "execution_count": null,
   "metadata": {},
   "outputs": [],
   "source": [
    "# Interpret image data as row-major instead of col-major\n",
    "pg.setConfigOptions(imageAxisOrder='row-major')\n",
    "\n",
    "app = QtGui.QApplication([])\n",
    "\n",
    "## Create window with ImageView widget\n",
    "win = QtGui.QMainWindow()\n",
    "win.resize(800,800)\n",
    "imv = pg.ImageView()\n",
    "win.setCentralWidget(imv)\n",
    "win.show()\n",
    "win.setWindowTitle('Tactile data')\n",
    "\n",
    "data = tactile_data.reshape((-1, 32, 32))\n",
    "\n",
    "## Display the data and assign each frame a time value from 0.0 to 2.0\n",
    "imv.setImage(data, xvals=np.linspace(0., data.shape[0]/100, data.shape[0]))\n",
    "\n",
    "## Set a custom color map\n",
    "colors = [\n",
    "    (0, 0, 0),\n",
    "    (45, 5, 61),\n",
    "    (84, 42, 55),\n",
    "    (150, 87, 60),\n",
    "    (208, 171, 141),\n",
    "    (255, 255, 255)\n",
    "]\n",
    "cmap = pg.ColorMap(pos=np.linspace(0.0, 1.0, 6), color=colors)\n",
    "imv.setColorMap(cmap)"
   ]
  },
  {
   "cell_type": "code",
   "execution_count": null,
   "metadata": {
    "jupyter": {
     "source_hidden": true
    }
   },
   "outputs": [],
   "source": [
    "QtGui.QApplication.instance().exec_()"
   ]
  },
  {
   "cell_type": "code",
   "execution_count": 45,
   "metadata": {
    "collapsed": true,
    "jupyter": {
     "outputs_hidden": true,
     "source_hidden": true
    }
   },
   "outputs": [
    {
     "data": {
      "image/png": "[encoded data removed]",
      "text/plain": [
       "<Figure size 432x288 with 1 Axes>"
      ]
     },
     "metadata": {
      "needs_background": "light"
     },
     "output_type": "display_data"
    }
   ],
   "source": [
    "import matplotlib.pyplot as plt\n",
    "import numpy as np\n",
    "\n",
    "mask = np.zeros((32,32))\n",
    "mask[0:16, 0:16] = 1\n",
    "plt.imshow(mask)\n",
    "plt.show()"
   ]
  },
  {
   "cell_type": "markdown",
   "metadata": {},
   "source": [
    "## The following cells are for comparing frames from different recording sessions and visualizing operations such as gaussian blurring on the frames"
   ]
  },
  {
   "cell_type": "code",
   "execution_count": 1,
   "metadata": {
    "jupyter": {
     "source_hidden": true
    }
   },
   "outputs": [],
   "source": [
    "import numpy as np\n",
    "from pathlib import Path\n",
    "import matplotlib.pyplot as plt\n",
    "import scipy.io as sio\n",
    "from scipy.ndimage import gaussian_filter"
   ]
  },
  {
   "cell_type": "code",
   "execution_count": 21,
   "metadata": {
    "collapsed": true,
    "jupyter": {
     "outputs_hidden": true,
     "source_hidden": true
    }
   },
   "outputs": [
    {
     "data": {
      "image/png": "[encoded data removed]",
      "text/plain": [
       "<Figure size 432x288 with 1 Axes>"
      ]
     },
     "metadata": {
      "needs_background": "light"
     },
     "output_type": "display_data"
    }
   ],
   "source": [
    "# Mask to find only the physically present sensor points\n",
    "mask = np.array([np.ones(32), np.ones(32), np.ones(32), # pinky\n",
    "                 np.concatenate((np.zeros(14), np.ones(18))),\n",
    "                 np.concatenate((np.zeros(14), np.ones(18))),\n",
    "                 np.concatenate((np.zeros(14), np.ones(18))),\n",
    "                 np.ones(32), np.ones(32), np.ones(32), # ring\n",
    "                 np.concatenate((np.zeros(14), np.ones(18))),\n",
    "                 np.ones(32), np.ones(32), np.ones(32), # middle\n",
    "                 np.concatenate((np.zeros(14), np.ones(18))),\n",
    "                 np.concatenate((np.zeros(14), np.ones(18))),\n",
    "                 np.ones(32), np.ones(32), np.ones(32), # index\n",
    "                 np.concatenate((np.zeros(25), np.ones(4), np.zeros(3))),\n",
    "                 np.concatenate((np.zeros(25), np.ones(4), np.zeros(3))),\n",
    "                 np.concatenate((np.zeros(25), np.ones(4), np.zeros(3))),\n",
    "                 np.concatenate((np.zeros(25), np.ones(4), np.zeros(3))),\n",
    "                 np.concatenate((np.zeros(25), np.ones(4), np.zeros(3))),\n",
    "                 np.concatenate((np.zeros(25), np.ones(4), np.zeros(3))),\n",
    "                 np.concatenate((np.zeros(25), np.ones(4), np.zeros(3))),\n",
    "                 np.concatenate((np.zeros(25), np.ones(4), np.zeros(3))),\n",
    "                 np.concatenate((np.zeros(25), np.ones(4), np.zeros(3))),\n",
    "                 np.concatenate((np.zeros(25), np.ones(4), np.zeros(3))),\n",
    "                 np.concatenate((np.zeros(25), np.ones(4), np.zeros(3))),\n",
    "                 np.concatenate((np.zeros(25), np.ones(4), np.zeros(3))),\n",
    "                 np.concatenate((np.zeros(25), np.ones(4), np.zeros(3))),\n",
    "                 np.concatenate((np.zeros(25), np.ones(4), np.zeros(3)))]).astype(np.bool)\n",
    "\n",
    "# Mask to find only the finger tips\n",
    "finger_mask = np.zeros((32,32))\n",
    "finger_mask[:, 0:4] = 1\n",
    "finger_mask[28:32, :] = 1\n",
    "finger_mask = np.logical_and(finger_mask, mask)\n",
    "plt.imshow(finger_mask)\n",
    "plt.show()"
   ]
  },
  {
   "cell_type": "code",
   "execution_count": 15,
   "metadata": {
    "jupyter": {
     "source_hidden": true
    }
   },
   "outputs": [],
   "source": [
    "filename = Path('C:/Users/fabia/Documents/Schweiz/ETH/Master/4_Semester_Spring_2020/Master_thesis/Data_Collection/3kOhm_FB/data_MT_FabianGeiger_4sess.mat')\n",
    "\n",
    "data = sio.loadmat(filename, squeeze_me=True)\n",
    "# Use only frames in which objects were touched\n",
    "valid_mask = data['valid_flag'] == 1\n",
    "pressure = data['tactile_data'][valid_mask]\n",
    "# Scale data to the range [0, 1]\n",
    "pressure = np.clip((pressure.astype(np.float32)-1500)/(2700-1500), 0.0, 1.0)\n",
    "pressure = np.reshape(pressure, (-1, 32, 32))\n",
    "#pressure = np.exp2(pressure)\n",
    "for press in pressure:\n",
    "    mean_p = np.mean(press[mask])\n",
    "    boost_mask = press > mean_p\n",
    "    press[boost_mask] = list(map(lambda x: 4*(x-mean_p), press[boost_mask]))\n",
    "object_id = data['object_id'][valid_mask]\n",
    "\n",
    "num_sessions = len(np.unique(data['session_id']))\n",
    "x = []\n",
    "y = []\n",
    "valid_sessions = data['session_id'][valid_mask]\n",
    "for i in range(num_sessions):\n",
    "    session_mask = valid_sessions == i\n",
    "    x.append(pressure[session_mask])\n",
    "    y.append(object_id[session_mask])"
   ]
  },
  {
   "cell_type": "code",
   "execution_count": 16,
   "metadata": {
    "collapsed": true,
    "jupyter": {
     "outputs_hidden": true,
     "source_hidden": true
    }
   },
   "outputs": [
    {
     "data": {
      "image/png": "[encoded data removed]",
      "text/plain": [
       "<Figure size 432x288 with 1 Axes>"
      ]
     },
     "metadata": {
      "needs_background": "light"
     },
     "output_type": "display_data"
    },
    {
     "data": {
      "image/png": "[encoded data removed]",
      "text/plain": [
       "<Figure size 432x288 with 1 Axes>"
      ]
     },
     "metadata": {
      "needs_background": "light"
     },
     "output_type": "display_data"
    }
   ],
   "source": [
    "pressure_clipped = np.clip(pressure, 0.0, 1.0)\n",
    "idx = 1000\n",
    "plt.imshow(pressure[idx])\n",
    "plt.show()\n",
    "plt.imshow(pressure_clipped[idx])\n",
    "plt.show()"
   ]
  },
  {
   "cell_type": "code",
   "execution_count": null,
   "metadata": {
    "jupyter": {
     "source_hidden": true
    }
   },
   "outputs": [],
   "source": [
    "# Find closest frames for a certain frame\n",
    "# idx = -1\n",
    "# min_dist = 100\n",
    "# comp_idx = 40000\n",
    "# frame1 = x[0][comp_idx]\n",
    "# for i, frame2 in enumerate(x[1]):\n",
    "#     dist = np.linalg.norm(frame1 - frame2)\n",
    "#     if(dist < min_dist):\n",
    "#         min_dist = dist\n",
    "#         idx = i\n",
    "\n",
    "# print('Class', y[0][comp_idx])\n",
    "# plt.imshow(frame1.reshape((32,32)))\n",
    "# plt.show()\n",
    "# print('Index', idx, 'and class', y[1][idx])\n",
    "# plt.imshow(x[1][idx].reshape((32,32)))\n",
    "# plt.show()\n",
    "\n",
    "sess0_mean = np.mean(x[0], axis=0).reshape((32,32))\n",
    "plt.imshow(sess0_mean)\n",
    "plt.show()\n",
    "sess1_mean = np.mean(x[1], axis=0).reshape((32,32))\n",
    "plt.imshow(sess1_mean)\n",
    "plt.show()"
   ]
  },
  {
   "cell_type": "code",
   "execution_count": null,
   "metadata": {
    "jupyter": {
     "source_hidden": true
    }
   },
   "outputs": [],
   "source": [
    "frame1_\n",
    "\n",
    "frame1_filtered = gaussian_filter(frame1.reshape((32,32)), sigma=0.6)\n",
    "\n",
    "frame1_filtered[~mask] = 0.0\n",
    "plt.imshow(frame1_filtered)\n",
    "plt.show()"
   ]
  },
  {
   "cell_type": "markdown",
   "metadata": {},
   "source": [
    "## The following cells are for checking the number of frames per class"
   ]
  },
  {
   "cell_type": "code",
   "execution_count": null,
   "metadata": {
    "jupyter": {
     "source_hidden": true
    }
   },
   "outputs": [],
   "source": [
    "import scipy.io as sio\n",
    "from pathlib import Path\n",
    "import numpy as np"
   ]
  },
  {
   "cell_type": "code",
   "execution_count": null,
   "metadata": {
    "jupyter": {
     "source_hidden": true
    }
   },
   "outputs": [],
   "source": [
    "filename = Path('C:/Users/fabia/Documents/Schweiz/ETH/Master/4_Semester_Spring_2020/Master_thesis/Data_Collection/3kOhm_FB/data_MT_FabianGeiger_4sess.mat')\n",
    "\n",
    "data = sio.loadmat(filename, squeeze_me=True)\n",
    "print('Total frames:', len(data['object_id']))\n",
    "# Use only frames in which objects were touched\n",
    "valid_mask = data['valid_flag'] == 1\n",
    "object_id = data['object_id'][valid_mask]\n",
    "print('Valid frames:', len(object_id))\n",
    "\n",
    "min_n = len(object_id)\n",
    "idx = 0\n",
    "for obj_id in range(len(data['objects'])):\n",
    "    obj_mask = object_id == obj_id\n",
    "    n = np.count_nonzero(obj_mask)\n",
    "    if(n < min_n):\n",
    "        print('SIKE!')\n",
    "        min_n = n\n",
    "        idx = obj_id\n",
    "print('Minimum number of frames:', min_n, 'for object', data['objects'][idx])"
   ]
  }
 ],
 "metadata": {
  "kernelspec": {
   "display_name": "Python 3",
   "language": "python",
   "name": "python3"
  },
  "language_info": {
   "codemirror_mode": {
    "name": "ipython",
    "version": 3
   },
   "file_extension": ".py",
   "mimetype": "text/x-python",
   "name": "python",
   "nbconvert_exporter": "python",
   "pygments_lexer": "ipython3",
   "version": "3.7.6"
  }
 },
 "nbformat": 4,
 "nbformat_minor": 4
}
