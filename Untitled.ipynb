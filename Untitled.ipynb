{
 "cells": [
  {
   "cell_type": "code",
   "execution_count": 1,
   "metadata": {},
   "outputs": [],
   "source": [
    "import struct\n",
    "import serial\n",
    "import time\n",
    "import numpy as np\n",
    "import matplotlib.pyplot as plt\n",
    "import seaborn as sns\n",
    "import scipy.stats as stats"
   ]
  },
  {
   "cell_type": "code",
   "execution_count": 35,
   "metadata": {},
   "outputs": [
    {
     "name": "stdout",
     "output_type": "stream",
     "text": [
      "Length of line: 2050\n"
     ]
    },
    {
     "ename": "IndexError",
     "evalue": "index out of range",
     "output_type": "error",
     "traceback": [
      "\u001b[1;31m---------------------------------------------------------------------------\u001b[0m",
      "\u001b[1;31mIndexError\u001b[0m                                Traceback (most recent call last)",
      "\u001b[1;32m<ipython-input-35-2f66208d1388>\u001b[0m in \u001b[0;36m<module>\u001b[1;34m\u001b[0m\n\u001b[0;32m      6\u001b[0m     \u001b[0mdata\u001b[0m \u001b[1;33m=\u001b[0m \u001b[0mser\u001b[0m\u001b[1;33m.\u001b[0m\u001b[0mread_until\u001b[0m\u001b[1;33m(\u001b[0m\u001b[1;34mb'\\xFF'\u001b[0m\u001b[1;33m,\u001b[0m \u001b[0msize\u001b[0m\u001b[1;33m=\u001b[0m\u001b[1;36m2050\u001b[0m\u001b[1;33m)\u001b[0m\u001b[1;33m\u001b[0m\u001b[1;33m\u001b[0m\u001b[0m\n\u001b[0;32m      7\u001b[0m     \u001b[0mfra\u001b[0m \u001b[1;33m=\u001b[0m \u001b[0mdata\u001b[0m\u001b[1;33m[\u001b[0m\u001b[1;36m0\u001b[0m\u001b[1;33m:\u001b[0m\u001b[1;36m2048\u001b[0m\u001b[1;33m]\u001b[0m\u001b[1;33m\u001b[0m\u001b[1;33m\u001b[0m\u001b[0m\n\u001b[1;32m----> 8\u001b[1;33m     \u001b[0mcla\u001b[0m \u001b[1;33m=\u001b[0m \u001b[0mdata\u001b[0m\u001b[1;33m[\u001b[0m\u001b[1;36m2048\u001b[0m\u001b[1;33m]\u001b[0m\u001b[1;33m\u001b[0m\u001b[1;33m\u001b[0m\u001b[0m\n\u001b[0m\u001b[0;32m      9\u001b[0m     \u001b[0mterm\u001b[0m \u001b[1;33m=\u001b[0m \u001b[0mdata\u001b[0m\u001b[1;33m[\u001b[0m\u001b[1;36m2049\u001b[0m\u001b[1;33m]\u001b[0m\u001b[1;33m\u001b[0m\u001b[1;33m\u001b[0m\u001b[0m\n\u001b[0;32m     10\u001b[0m     \u001b[0mprint\u001b[0m\u001b[1;33m(\u001b[0m\u001b[1;34m'Length of line:'\u001b[0m\u001b[1;33m,\u001b[0m \u001b[0mlen\u001b[0m\u001b[1;33m(\u001b[0m\u001b[0mdata\u001b[0m\u001b[1;33m)\u001b[0m\u001b[1;33m)\u001b[0m\u001b[1;33m\u001b[0m\u001b[1;33m\u001b[0m\u001b[0m\n",
      "\u001b[1;31mIndexError\u001b[0m: index out of range"
     ]
    }
   ],
   "source": [
    "ser = serial.Serial(\"COM3\", 921600, timeout=1000)\n",
    "frames = []\n",
    "classes = []\n",
    "terms = []\n",
    "for i in range(10):\n",
    "    data = ser.read_until(b'\\xFF', size=2050)\n",
    "    fra = data[0:2048]\n",
    "    cla = data[2048]\n",
    "    term = data[2049]\n",
    "    print('Length of line:', len(data))\n",
    "    frame = []\n",
    "    for j in range(1024):\n",
    "        frame.append(struct.unpack('<H', fra[j*2:(j+1)*2])[0])\n",
    "    frames.append(np.array(frame))\n",
    "    classes.append(cla)\n",
    "    terms.append(term)\n",
    "    #classes.append(struct.unpack('<H', cla)[0])\n",
    "ser.close()"
   ]
  },
  {
   "cell_type": "code",
   "execution_count": 29,
   "metadata": {},
   "outputs": [
    {
     "data": {
      "text/plain": [
       "[255, 255, 255, 255, 255, 255, 255, 255, 255, 255]"
      ]
     },
     "execution_count": 29,
     "metadata": {},
     "output_type": "execute_result"
    }
   ],
   "source": [
    "terms"
   ]
  },
  {
   "cell_type": "code",
   "execution_count": 36,
   "metadata": {},
   "outputs": [],
   "source": [
    "ser.close()"
   ]
  },
  {
   "cell_type": "code",
   "execution_count": null,
   "metadata": {},
   "outputs": [],
   "source": [
    "test = np.array(frames).astype(np.uint16)"
   ]
  },
  {
   "cell_type": "code",
   "execution_count": null,
   "metadata": {},
   "outputs": [],
   "source": [
    "test1 = np.reshape(test, (100,32,32))\n",
    "test2 = test1[:,np.transpose(mask)]"
   ]
  },
  {
   "cell_type": "code",
   "execution_count": null,
   "metadata": {},
   "outputs": [],
   "source": [
    "fig = plt.figure(figsize=(6,6), dpi=100)\n",
    "ax = fig.add_subplot(111)\n",
    "sns.heatmap(np.mean(test1, 0), square=True, ax=ax, cbar=True)\n",
    "fig.show()"
   ]
  },
  {
   "cell_type": "code",
   "execution_count": null,
   "metadata": {},
   "outputs": [],
   "source": [
    "plt.plot(np.mean(test2, 0))\n",
    "plt.show()\n",
    "plt.plot(np.std(test2, 0))\n",
    "plt.show()"
   ]
  },
  {
   "cell_type": "code",
   "execution_count": null,
   "metadata": {},
   "outputs": [],
   "source": [
    "mask = np.array([np.ones(32), np.ones(32), np.ones(32),\n",
    "                         np.concatenate((np.zeros(14), np.ones(18))),\n",
    "                         np.concatenate((np.zeros(14), np.ones(18))),\n",
    "                         np.concatenate((np.zeros(14), np.ones(18))),\n",
    "                         np.ones(32), np.ones(32), np.ones(32),\n",
    "                         np.concatenate((np.zeros(14), np.ones(18))),\n",
    "                         np.ones(32), np.ones(32), np.ones(32),\n",
    "                         np.concatenate((np.zeros(14), np.ones(18))),\n",
    "                         np.concatenate((np.zeros(14), np.ones(18))),\n",
    "                         np.ones(32), np.ones(32), np.ones(32),\n",
    "                         np.concatenate((np.zeros(25), np.ones(4), np.zeros(3))),\n",
    "                         np.concatenate((np.zeros(25), np.ones(4), np.zeros(3))),\n",
    "                         np.concatenate((np.zeros(25), np.ones(4), np.zeros(3))),\n",
    "                         np.concatenate((np.zeros(25), np.ones(4), np.zeros(3))),\n",
    "                         np.concatenate((np.zeros(25), np.ones(4), np.zeros(3))),\n",
    "                         np.concatenate((np.zeros(25), np.ones(4), np.zeros(3))),\n",
    "                         np.concatenate((np.zeros(25), np.ones(4), np.zeros(3))),\n",
    "                         np.concatenate((np.zeros(25), np.ones(4), np.zeros(3))),\n",
    "                         np.concatenate((np.zeros(25), np.ones(4), np.zeros(3))),\n",
    "                         np.concatenate((np.zeros(25), np.ones(4), np.zeros(3))),\n",
    "                         np.concatenate((np.zeros(25), np.ones(4), np.zeros(3))),\n",
    "                         np.concatenate((np.zeros(25), np.ones(4), np.zeros(3))),\n",
    "                         np.concatenate((np.zeros(25), np.ones(4), np.zeros(3))),\n",
    "                         np.concatenate((np.zeros(25), np.ones(4), np.zeros(3)))]).astype(np.bool)"
   ]
  },
  {
   "cell_type": "code",
   "execution_count": null,
   "metadata": {},
   "outputs": [],
   "source": [
    "all_data = np.mean(test, 0)\n",
    "all_data.sort()\n",
    "phys_data = np.mean(test2, 0)\n",
    "phys_data.sort()\n",
    "unphys_data = np.mean(test1[:,np.transpose(np.logical_not(mask))], 0)\n",
    "unphys_data.sort()\n",
    "\n",
    "pdf_all = stats.norm.pdf(all_data, np.mean(all_data), np.std(all_data))\n",
    "plt.figure(figsize=(10,6))\n",
    "(n, bins, patches) = plt.hist(all_data, density=True, bins=16)\n",
    "plt.plot(all_data, pdf_all)\n",
    "plt.grid()\n",
    "plt.xlim([1825, 2010])\n",
    "plt.show()\n",
    "\n",
    "pdf_phys = stats.norm.pdf(phys_data, np.mean(phys_data), np.std(phys_data))\n",
    "plt.figure(figsize=(10,6))\n",
    "plt.hist(phys_data, density=True, bins=16)\n",
    "plt.plot(phys_data, pdf_phys)\n",
    "plt.grid()\n",
    "plt.xlim([1825, 2010])\n",
    "plt.show()\n",
    "\n",
    "pdf_unphys = stats.norm.pdf(unphys_data, np.mean(unphys_data), np.std(unphys_data))\n",
    "plt.figure(figsize=(10,6))\n",
    "plt.hist(unphys_data, density=True, bins=16)\n",
    "plt.plot(unphys_data, pdf_unphys)\n",
    "plt.grid()\n",
    "#plt.xlim([1825, 2010])\n",
    "plt.show()"
   ]
  },
  {
   "cell_type": "code",
   "execution_count": null,
   "metadata": {},
   "outputs": [],
   "source": [
    "plt.matshow(np.digitize(np.mean(test, 0).reshape((32,32)), bins))\n",
    "bins"
   ]
  },
  {
   "cell_type": "code",
   "execution_count": null,
   "metadata": {},
   "outputs": [],
   "source": [
    "np.mean(test1[:,np.transpose(np.logical_not(mask))], 0).shape"
   ]
  },
  {
   "cell_type": "code",
   "execution_count": 43,
   "metadata": {},
   "outputs": [
    {
     "name": "stdout",
     "output_type": "stream",
     "text": [
      "µ\n"
     ]
    }
   ],
   "source": [
    "import numpy as np\n",
    "import struct\n",
    "\n",
    "for i in np.arange(1480, 5000):\n",
    "    hex_string = struct.pack('<H', i)\n",
    "    if(hex_string == 'µ'.encode()):\n",
    "        print('F@#*!!!!')\n",
    "        break\n",
    "print(b'\\xc2\\xb5'.decode())"
   ]
  },
  {
   "cell_type": "code",
   "execution_count": 74,
   "metadata": {},
   "outputs": [
    {
     "data": {
      "text/plain": [
       "(214,)"
      ]
     },
     "execution_count": 74,
     "metadata": {},
     "output_type": "execute_result"
    }
   ],
   "source": [
    "struct.unpack('<B', b'\\xd6')"
   ]
  }
 ],
 "metadata": {
  "kernelspec": {
   "display_name": "Python 3",
   "language": "python",
   "name": "python3"
  },
  "language_info": {
   "codemirror_mode": {
    "name": "ipython",
    "version": 3
   },
   "file_extension": ".py",
   "mimetype": "text/x-python",
   "name": "python",
   "nbconvert_exporter": "python",
   "pygments_lexer": "ipython3",
   "version": "3.7.6"
  }
 },
 "nbformat": 4,
 "nbformat_minor": 4
}
